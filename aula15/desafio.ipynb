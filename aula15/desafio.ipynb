{
 "cells": [
  {
   "attachments": {},
   "cell_type": "markdown",
   "metadata": {},
   "source": [
    "Sabemos que o cálculo das raízes da equação do segundo grau é algo rotineiro para os alunos de ensino médio. Visando facilitar a correção, vamos construir uma solução que calcule as raízes (por Bhaskara) a partir de valores fornecidos pelos usuários até que o usuário não deseje mais.\n",
    "\n",
    "Siga as restrições e orientações: <br>\n",
    "• Se o valor de a for 0 (zero), “Esta equação não é do segundo grau, sim do primeiro.” NÃO RESOLVER<br>\n",
    "• Se b ou c forem 0, é uma “Equação do segundo grau Incompleta”. RESOLVER<br>\n",
    "• Se b e c não forem 0, é uma “Equação do segundo grau completa”. RESOLVER<br>\n",
    "• Se o delta resultar um valor negativo, não é possível calcular por Bhaskara com números Reais porque “Não há raiz quadrada negativa”. NÃO RESOLVER<br>\n",
    "• Se o delta resultar zero a equação admite uma solução. RESOLVER<br>\n",
    "• Se o delta resultar um valor positivo (como no exemplo) as raízes se dão por duas soluções, ou seja, x1 e x2 (raízes distintas).RESOLVER\n",
    "\n",
    "Agora que lembramos como se calcula, vamos construir uma solução utilizando Subalgoritmos (Funções e procedimentos com ou sem passagem de parâmetros) que resolva este problema a partir de 3 valores passados pelo usuário. Quando necessário, exibir as frases das restrições que estão entre aspas em negrito.\n",
    "\n",
    "Ao final da execução do cálculo (OU NÃO) das raízes, perguntar ao usuário se ele deseja continuar utilizando o programa. Considere “S” para Sim (continuar) para continuar e “N” para Não (Terminar o programa). Se não digitar S ou N, advertir o usuário para que digite."
   ]
  },
  {
   "cell_type": "code",
   "execution_count": 3,
   "metadata": {},
   "outputs": [
    {
     "name": "stdout",
     "output_type": "stream",
     "text": [
      "None\n"
     ]
    }
   ],
   "source": [
    "def bhaskara(a, b, c) -> int:\n",
    "    delta = (b*b) - (4*a*c)\n",
    "\n",
    "    if a == 0 :\n",
    "        print(\"Esta equação não é do segundo grau, sim do primeiro.\")\n",
    "    elif delta < 0:\n",
    "        print(\"Não há raiz quadrada negativa\")\n",
    "    elif b != 0 and c != 0:\n",
    "        r1 = ((-b)+(delta**(1/2)))/(2*a)\n",
    "        r2 = ((-b)-(delta**(1/2)))/(2*a)\n",
    "        print(f\"As raizes da função {a}x² + {b}x + {c} = 0 são: R1 {r1} e R2 {r2}\")\n",
    "    elif delta == 0:\n",
    "        r1 = ((-b)+(delta**(1/2)))/(2*a)\n",
    "        r2 = ((-b)-(delta**(1/2)))/(2*a)\n",
    "        print(f\"As raizes da função {a}x² + {b}x + {c} = 0 são: R1 {r1} e R2 {r2}\")\n",
    "    \n",
    "print(bhaskara(1,0,0))\n",
    "        "
   ]
  }
 ],
 "metadata": {
  "kernelspec": {
   "display_name": "Python 3",
   "language": "python",
   "name": "python3"
  },
  "language_info": {
   "codemirror_mode": {
    "name": "ipython",
    "version": 3
   },
   "file_extension": ".py",
   "mimetype": "text/x-python",
   "name": "python",
   "nbconvert_exporter": "python",
   "pygments_lexer": "ipython3",
   "version": "3.10.6"
  },
  "orig_nbformat": 4
 },
 "nbformat": 4,
 "nbformat_minor": 2
}
