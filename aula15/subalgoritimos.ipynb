{
 "cells": [
  {
   "cell_type": "code",
   "execution_count": 3,
   "metadata": {},
   "outputs": [
    {
     "name": "stdout",
     "output_type": "stream",
     "text": [
      "Boa tarde Usuario\n",
      "Boa tarde Ana\n",
      "Boa tarde Usuario\n",
      "Boa tarde Maria\n"
     ]
    }
   ],
   "source": [
    "def saudacao(mensagem: str = \"Boa tarde\", nome: str = \"Usuario\") -> None:\n",
    "    print(f\"{mensagem} {nome}\")\n",
    "\n",
    "saudacao(\"Boa tarde\")\n",
    "saudacao(\"Boa tarde\", \"Ana\")\n",
    "saudacao()\n",
    "saudacao(nome = \"Maria\")"
   ]
  },
  {
   "cell_type": "code",
   "execution_count": 41,
   "metadata": {},
   "outputs": [
    {
     "name": "stdout",
     "output_type": "stream",
     "text": [
      "O terceiro numero 3 é maior\n",
      "None\n"
     ]
    }
   ],
   "source": [
    "def maior(n1 = 1, n2 = 2, n3 = 3) -> int:\n",
    "    if n1 > n2:\n",
    "        if n1 > n3:\n",
    "            print (f\"O primeiro numero {n1} é maior\")\n",
    "    elif n2 > n3:\n",
    "        if n2 > n1:\n",
    "            print(f\"O segundo numero {n2} é maior\")\n",
    "    else:\n",
    "        print(f\"O terceiro numero {n3} é maior\")\n",
    "\n",
    "print(maior())"
   ]
  },
  {
   "attachments": {},
   "cell_type": "markdown",
   "metadata": {},
   "source": [
    "## Parametros do tipo *args\n",
    "O parametro do tipo *args permite que passemos um número não defino de parametros\n",
    "<br>\n",
    "**Sintaxe:**\n",
    "```\n",
    "def nome_subalgorimo (*agrs) -> tipo_retorno:\n",
    "    corpo_subalgoritimo\n",
    "    return(retorno)\n",
    "```"
   ]
  },
  {
   "attachments": {},
   "cell_type": "markdown",
   "metadata": {},
   "source": [
    "## Utilizando *args"
   ]
  },
  {
   "cell_type": "code",
   "execution_count": 19,
   "metadata": {},
   "outputs": [
    {
     "name": "stdout",
     "output_type": "stream",
     "text": [
      "165\n",
      "32\n",
      "295\n"
     ]
    }
   ],
   "source": [
    "def soma_numeros2(*args) -> float:\n",
    "    soma = 0\n",
    "    for valor in args:\n",
    "        soma = soma + valor\n",
    "    return soma\n",
    "\n",
    "print(soma_numeros2(56,76,33))\n",
    "print(soma_numeros2(23,9))\n",
    "print(soma_numeros2(56,87,43,76,33))\n"
   ]
  },
  {
   "attachments": {},
   "cell_type": "markdown",
   "metadata": {},
   "source": [
    "**Exercicio:** Com args fça uma função que calcula a média de N numeros"
   ]
  },
  {
   "cell_type": "code",
   "execution_count": 27,
   "metadata": {},
   "outputs": [
    {
     "name": "stdout",
     "output_type": "stream",
     "text": [
      "10.0\n"
     ]
    }
   ],
   "source": [
    "def media(*args) -> float:\n",
    "    media = 0\n",
    "    qtd = 0\n",
    "    for valor in args:\n",
    "        media = media + valor\n",
    "        qtd += 1\n",
    "    return media / qtd\n",
    "\n",
    "print(media(10,10,10,10))"
   ]
  },
  {
   "attachments": {},
   "cell_type": "markdown",
   "metadata": {},
   "source": [
    "## Subalgoritimo encadeado\n",
    "**Exemplo:** Fazer uma função que calcule a média dos checkpoints de um aluno da FIAP"
   ]
  },
  {
   "cell_type": "code",
   "execution_count": 33,
   "metadata": {},
   "outputs": [
    {
     "name": "stdout",
     "output_type": "stream",
     "text": [
      "5.5\n"
     ]
    }
   ],
   "source": [
    "#Função primária\n",
    "def mediaCp(n1:float, n2:float, n3:float) -> float:\n",
    "\n",
    "    #Função secundária\n",
    "    def menorValor(n1:float, n2:float, n3:float) -> float:\n",
    "        #Corpo secundária\n",
    "        menor = n1\n",
    "        if n2 > menor:\n",
    "            menor = n2\n",
    "        if n3 > menor:\n",
    "            menor = n3    \n",
    "        return menor\n",
    "    media = (n1 + n2 + n3 - menorValor(n1, n2, n3)) / 2\n",
    "    return media\n",
    "\n",
    "#Chamada da função\n",
    "print(mediaCp(5,6,6))\n",
    "    "
   ]
  },
  {
   "attachments": {},
   "cell_type": "markdown",
   "metadata": {},
   "source": [
    "**Exercício:** Fazer uma função que calcule a média de 3 numeros utilizando o conceito de subalgoritmo primário e secundario"
   ]
  }
 ],
 "metadata": {
  "kernelspec": {
   "display_name": "Python 3",
   "language": "python",
   "name": "python3"
  },
  "language_info": {
   "codemirror_mode": {
    "name": "ipython",
    "version": 3
   },
   "file_extension": ".py",
   "mimetype": "text/x-python",
   "name": "python",
   "nbconvert_exporter": "python",
   "pygments_lexer": "ipython3",
   "version": "3.11.4"
  },
  "orig_nbformat": 4
 },
 "nbformat": 4,
 "nbformat_minor": 2
}
