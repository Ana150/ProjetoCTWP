{
 "cells": [
  {
   "cell_type": "markdown",
   "metadata": {},
   "source": [
    "## Manipulação de Arquivos Texto\n",
    "Arquivos Texto são aqueles que consideram todos os caracteres da tabela ASCII."
   ]
  },
  {
   "cell_type": "markdown",
   "metadata": {},
   "source": [
    "### Formas de abretura de arquivos\n",
    "'w'  ==> abertura em modo escrita (write). Ele sobrepoe o arquivo original\n",
    "\n",
    "```\n",
    "arq1.txt\n",
    "Hoje é aula de arquivos\n",
    "Prof edson de Oliveira\n",
    "```\n",
    "\n",
    "hoje é dia 18-set-2023\n",
    "```\n",
    "arq1.txt - w\n",
    "hoje é dia 18-set-2023\n",
    "```\n",
    "\n",
    "'r'  ==> Abertura em modo leitura\n",
    "```\n",
    "arq1.txt - r\n",
    "TELA:\n",
    "hoje é dia 18-set-2023\n",
    "```\n",
    "\n",
    "'x'  ==> Abertura em modo escrita. Caso o arquivo já exista, ele retorna um erro.\n",
    "```\n",
    "--> arq1.txt - x\n",
    "ERRO. porque o arquivo já existe\n",
    "--> arq2.txt - x\n",
    "Consigo trabalhar com o arquivo normalmente\n",
    "```\n",
    "\n",
    "'a'  ==> (append) Abertura em modo escrita. Ele adiciona dados ao arquivo\n",
    "```\n",
    "arq1.txt - a\n",
    "\n",
    "novo conteudo\n",
    "\n",
    "arq1.txt\n",
    "-------------------------\n",
    "hoje é dia 18-set-2023\n",
    "novo conteudo\n",
    "-------------------------\n",
    "```\n",
    "\n",
    "'+'  ==> abertura em modo edição seja leitura ou escrita.\n",
    "arq1.txt - w+ | r+ \n",
    "\n",
    "### Função open()\n",
    "**Sintaxe:**\n",
    "<objeto> = open(\"<nome do arquivo>\", \"<forma de abertura>\")"
   ]
  },
  {
   "cell_type": "code",
   "execution_count": 4,
   "metadata": {},
   "outputs": [
    {
     "ename": "FileExistsError",
     "evalue": "[Errno 17] File exists: 'arq1.txt'",
     "output_type": "error",
     "traceback": [
      "\u001b[0;31m---------------------------------------------------------------------------\u001b[0m",
      "\u001b[0;31mFileExistsError\u001b[0m                           Traceback (most recent call last)",
      "Cell \u001b[0;32mIn[4], line 1\u001b[0m\n\u001b[0;32m----> 1\u001b[0m arquivo \u001b[39m=\u001b[39m \u001b[39mopen\u001b[39;49m(\u001b[39m\"\u001b[39;49m\u001b[39marq1.txt\u001b[39;49m\u001b[39m\"\u001b[39;49m,\u001b[39m\"\u001b[39;49m\u001b[39mx\u001b[39;49m\u001b[39m\"\u001b[39;49m)\n",
      "File \u001b[0;32m~/Library/Python/3.11/lib/python/site-packages/IPython/core/interactiveshell.py:284\u001b[0m, in \u001b[0;36m_modified_open\u001b[0;34m(file, *args, **kwargs)\u001b[0m\n\u001b[1;32m    277\u001b[0m \u001b[39mif\u001b[39;00m file \u001b[39min\u001b[39;00m {\u001b[39m0\u001b[39m, \u001b[39m1\u001b[39m, \u001b[39m2\u001b[39m}:\n\u001b[1;32m    278\u001b[0m     \u001b[39mraise\u001b[39;00m \u001b[39mValueError\u001b[39;00m(\n\u001b[1;32m    279\u001b[0m         \u001b[39mf\u001b[39m\u001b[39m\"\u001b[39m\u001b[39mIPython won\u001b[39m\u001b[39m'\u001b[39m\u001b[39mt let you open fd=\u001b[39m\u001b[39m{\u001b[39;00mfile\u001b[39m}\u001b[39;00m\u001b[39m by default \u001b[39m\u001b[39m\"\u001b[39m\n\u001b[1;32m    280\u001b[0m         \u001b[39m\"\u001b[39m\u001b[39mas it is likely to crash IPython. If you know what you are doing, \u001b[39m\u001b[39m\"\u001b[39m\n\u001b[1;32m    281\u001b[0m         \u001b[39m\"\u001b[39m\u001b[39myou can use builtins\u001b[39m\u001b[39m'\u001b[39m\u001b[39m open.\u001b[39m\u001b[39m\"\u001b[39m\n\u001b[1;32m    282\u001b[0m     )\n\u001b[0;32m--> 284\u001b[0m \u001b[39mreturn\u001b[39;00m io_open(file, \u001b[39m*\u001b[39;49margs, \u001b[39m*\u001b[39;49m\u001b[39m*\u001b[39;49mkwargs)\n",
      "\u001b[0;31mFileExistsError\u001b[0m: [Errno 17] File exists: 'arq1.txt'"
     ]
    }
   ],
   "source": [
    "arquivo = open(\"arq1.txt\",\"x\")"
   ]
  }
 ],
 "metadata": {
  "kernelspec": {
   "display_name": "Python 3",
   "language": "python",
   "name": "python3"
  },
  "language_info": {
   "codemirror_mode": {
    "name": "ipython",
    "version": 3
   },
   "file_extension": ".py",
   "mimetype": "text/x-python",
   "name": "python",
   "nbconvert_exporter": "python",
   "pygments_lexer": "ipython3",
   "version": "3.11.1"
  },
  "orig_nbformat": 4
 },
 "nbformat": 4,
 "nbformat_minor": 2
}
