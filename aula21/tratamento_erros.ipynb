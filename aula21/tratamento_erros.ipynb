{
 "cells": [
  {
   "cell_type": "markdown",
   "metadata": {},
   "source": [
    "### Tratamento de erros\n",
    "#### Erro de compilação\n",
    "Ocorre quando desrespeitamos a regra de um comando."
   ]
  },
  {
   "cell_type": "code",
   "execution_count": null,
   "metadata": {},
   "outputs": [],
   "source": [
    "print(\"Bom dia a todos!\""
   ]
  },
  {
   "cell_type": "markdown",
   "metadata": {},
   "source": [
    "#### Erro de semântica\n",
    "Também conhecido como erro de lógica. Este erro não aborta o programa, mas dá um um valor inesperado."
   ]
  },
  {
   "cell_type": "code",
   "execution_count": null,
   "metadata": {},
   "outputs": [],
   "source": [
    "# Exemplo 1\n",
    "idade = 18\n",
    "if idade > 18:\n",
    "    print(\"Maior de idade\")\n",
    "else:\n",
    "    print(\"Menor de idade\")"
   ]
  },
  {
   "cell_type": "code",
   "execution_count": null,
   "metadata": {},
   "outputs": [],
   "source": [
    "# Exemplo 2\n",
    "nota1 = 10\n",
    "nota2 = 5\n",
    "media = nota1 + nota2 / 2\n",
    "print(media)"
   ]
  },
  {
   "cell_type": "markdown",
   "metadata": {},
   "source": [
    "### Erro circunstancial\n",
    "Este erro ocorre quando a falha é intercódigo, ou seja, o meio em que o sistema está hospedado ocasiona o erro.\n",
    "#### Exemplos:\n",
    "1. A internet caiu\n",
    "2. A energia caiu\n",
    "3. O banco de dados estar aberto em modo exclusivo"
   ]
  },
  {
   "cell_type": "markdown",
   "metadata": {},
   "source": [
    "### Exemplificando e tratando os tipos de erros\n",
    "Erros possiveis na divisão entre dois numeros"
   ]
  },
  {
   "cell_type": "code",
   "execution_count": 22,
   "metadata": {},
   "outputs": [
    {
     "ename": "ZeroDivisionError",
     "evalue": "float division by zero",
     "output_type": "error",
     "traceback": [
      "\u001b[0;31m---------------------------------------------------------------------------\u001b[0m",
      "\u001b[0;31mZeroDivisionError\u001b[0m                         Traceback (most recent call last)",
      "Cell \u001b[0;32mIn[22], line 3\u001b[0m\n\u001b[1;32m      1\u001b[0m n1 \u001b[39m=\u001b[39m \u001b[39mfloat\u001b[39m(\u001b[39minput\u001b[39m(\u001b[39m\"\u001b[39m\u001b[39mDigite um valor: \u001b[39m\u001b[39m\"\u001b[39m))\n\u001b[1;32m      2\u001b[0m n2 \u001b[39m=\u001b[39m \u001b[39mfloat\u001b[39m(\u001b[39minput\u001b[39m(\u001b[39m\"\u001b[39m\u001b[39mDigite outro numero: \u001b[39m\u001b[39m\"\u001b[39m))\n\u001b[0;32m----> 3\u001b[0m divisao \u001b[39m=\u001b[39m n1 \u001b[39m/\u001b[39;49m n2\n\u001b[1;32m      4\u001b[0m \u001b[39mprint\u001b[39m(divisao)\n",
      "\u001b[0;31mZeroDivisionError\u001b[0m: float division by zero"
     ]
    }
   ],
   "source": [
    "n1 = float(input(\"Digite um valor: \"))\n",
    "n2 = float(input(\"Digite outro numero: \"))\n",
    "divisao = n1 / n2\n",
    "print(divisao)"
   ]
  },
  {
   "cell_type": "markdown",
   "metadata": {},
   "source": [
    "### Tratar os erros com o try\n",
    "O Try permite que o código seja executado incondicionalmentes, caso desperte um erro, ele cai no except:\n",
    "<br>\n",
    "**Sintaxe:**\n",
    "```python\n",
    "try\n",
    "    <rotina a ser executada>\n",
    "except:\n",
    "    <caso ocorra uma falha>\n",
    "```"
   ]
  },
  {
   "cell_type": "code",
   "execution_count": 14,
   "metadata": {},
   "outputs": [
    {
     "name": "stdout",
     "output_type": "stream",
     "text": [
      "Ocorreu algum erro!\n"
     ]
    }
   ],
   "source": [
    "try:\n",
    "    n1 = float(input(\"Digite um valor: \"))\n",
    "    n2 = float(input(\"Digite outro numero: \"))\n",
    "    divisao = n1 / n2\n",
    "    print(divisao)\n",
    "except:\n",
    "    print(\"Ocorreu algum erro!\")"
   ]
  },
  {
   "cell_type": "markdown",
   "metadata": {},
   "source": [
    "o except identificou o erro, mas não sei qual ocorreu."
   ]
  },
  {
   "cell_type": "markdown",
   "metadata": {},
   "source": [
    "#### identificando o tipo de erro\n",
    "Todo erro gera uma constante, esta será utilizada para identificar o erro no except."
   ]
  },
  {
   "cell_type": "code",
   "execution_count": 18,
   "metadata": {},
   "outputs": [
    {
     "name": "stdout",
     "output_type": "stream",
     "text": [
      "1.0\n"
     ]
    }
   ],
   "source": [
    "try:\n",
    "    n1 = float(input(\"Digite um valor: \"))\n",
    "    n2 = float(input(\"Digite outro numero: \"))\n",
    "    divisao = n1 / n2\n",
    "    print(divisao)\n",
    "except ValueError:\n",
    "    print(\"Você digitou um valor não numérico\")\n",
    "except:\n",
    "    print(\"Ocorreu algum erro!\")"
   ]
  },
  {
   "cell_type": "code",
   "execution_count": 21,
   "metadata": {},
   "outputs": [
    {
     "name": "stdout",
     "output_type": "stream",
     "text": [
      "Ocorreu algum erro!\n"
     ]
    }
   ],
   "source": [
    "try:\n",
    "    n1 = float(input(\"Digite um valor: \"))\n",
    "    n2 = float(input(\"Digite outro numero: \"))\n",
    "    divisao = n1 / n2\n",
    "    print(divisao)\n",
    "except ValueError as erroValorErrado:\n",
    "    print(erroValorErrado)\n",
    "except:\n",
    "    print(\"Ocorreu algum erro!\")"
   ]
  },
  {
   "cell_type": "code",
   "execution_count": 23,
   "metadata": {},
   "outputs": [
    {
     "name": "stdout",
     "output_type": "stream",
     "text": [
      "Não há divisão por zero!\n"
     ]
    }
   ],
   "source": [
    "try:\n",
    "    n1 = float(input(\"Digite um valor: \"))\n",
    "    n2 = float(input(\"Digite outro numero: \"))\n",
    "    divisao = n1 / n2\n",
    "    print(divisao)\n",
    "except ValueError as erroValorErrado:\n",
    "    print(erroValorErrado)\n",
    "except ZeroDivisionError:\n",
    "    print(\"Não há divisão por zero!\")\n",
    "except:\n",
    "    print(\"Ocorreu um erro inesperado, favor contatar a TI\")"
   ]
  },
  {
   "cell_type": "markdown",
   "metadata": {},
   "source": [
    "#### Acrescentando a clausula else\n",
    "Esta clausula é acionada caso não ocorra erro."
   ]
  },
  {
   "cell_type": "code",
   "execution_count": 27,
   "metadata": {},
   "outputs": [
    {
     "name": "stdout",
     "output_type": "stream",
     "text": [
      "1.9166666666666667\n"
     ]
    }
   ],
   "source": [
    "try:\n",
    "    n1 = float(input(\"Digite um valor: \"))\n",
    "    n2 = float(input(\"Digite outro numero: \"))\n",
    "    divisao = n1 / n2\n",
    "    print(divisao)\n",
    "except ValueError as erroValorErrado:\n",
    "    print(erroValorErrado)\n",
    "except ZeroDivisionError:\n",
    "    print(\"Não há divisão por zero!\")\n",
    "except:\n",
    "    print(\"Ocorreu um erro inesperado, favor contatar a TI\")\n",
    "else:\n",
    "    print(\"o seu calculo foi executado normalmente\")"
   ]
  },
  {
   "cell_type": "markdown",
   "metadata": {},
   "source": [
    "### Sintaxe completa:\n",
    "```python\n",
    "try\n",
    "    <rotina a ser executada>\n",
    "except:\n",
    "    <caso ocorra uma falha>\n",
    "else:\n",
    "    <caso não ocorra erro>\n",
    "finally:\n",
    "    <Finaliza a rotina. o finally é executado caso ocorra erro ou não>\n",
    "```"
   ]
  },
  {
   "cell_type": "code",
   "execution_count": 30,
   "metadata": {},
   "outputs": [
    {
     "name": "stdout",
     "output_type": "stream",
     "text": [
      "Não há divisão por zero!\n",
      "A rotina foi executada!\n"
     ]
    }
   ],
   "source": [
    "try:\n",
    "    n1 = float(input(\"Digite um valor: \"))\n",
    "    n2 = float(input(\"Digite outro numero: \"))\n",
    "    divisao = n1 / n2\n",
    "    print(divisao)\n",
    "except ValueError as erroValorErrado:\n",
    "    print(erroValorErrado)\n",
    "except ZeroDivisionError:\n",
    "    print(\"Não há divisão por zero!\")\n",
    "except:\n",
    "    print(\"Ocorreu um erro inesperado, favor contatar a TI\")\n",
    "else:\n",
    "    print(\"o seu calculo foi executado normalmente\")\n",
    "finally:\n",
    "    print(\"A rotina foi executada!\")"
   ]
  },
  {
   "cell_type": "markdown",
   "metadata": {},
   "source": [
    "### Exercício\n",
    "Considere o fechamento de média SEMESTRAL da FIAP:\n",
    "- (20%) 3 CPS por Semestre (media tirando a menor nota)\n",
    "- (20%) 2 Sprints\n",
    "- (60%) 1 GS\n",
    "e calcule a média semestral"
   ]
  }
 ],
 "metadata": {
  "kernelspec": {
   "display_name": "Python 3",
   "language": "python",
   "name": "python3"
  },
  "language_info": {
   "codemirror_mode": {
    "name": "ipython",
    "version": 3
   },
   "file_extension": ".py",
   "mimetype": "text/x-python",
   "name": "python",
   "nbconvert_exporter": "python",
   "pygments_lexer": "ipython3",
   "version": "3.11.1"
  },
  "orig_nbformat": 4
 },
 "nbformat": 4,
 "nbformat_minor": 2
}
