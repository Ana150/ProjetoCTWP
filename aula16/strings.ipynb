{
 "cells": [
  {
   "attachments": {},
   "cell_type": "markdown",
   "metadata": {},
   "source": [
    "### Manipulação e Fatiamento de listas | strings | tuplas\n",
    "Fatiar lista é selecionar parte de uma lista.<br><br>\n",
    "**Sintaxe:**\n",
    "``` \n",
    "lista[inicio : fim : passo] \n",
    "```\n",
    "***fim** não o inclui*\n",
    "> Onde **ínicio** é o primeiro elemento e **fim** o último.\n",
    "\n",
    "**Exemplos:**"
   ]
  },
  {
   "cell_type": "code",
   "execution_count": 22,
   "metadata": {},
   "outputs": [
    {
     "name": "stdout",
     "output_type": "stream",
     "text": [
      "          0   1   2   3   4   5   6   7   8   9     <= índices\n",
      "        -10  -9  -8  -7  -6  -5  -4  -3  -2  -1     <= índices begativos\n",
      "Lista = [10, 20, 30, 40, 50, 60, 70, 80, 90, 100]\n",
      "3:7   = [40, 50, 60, 70]\n",
      "-4:-1 = [70, 80, 90]\n"
     ]
    }
   ],
   "source": [
    "#           0   1   2   3   4   5   6   7   8   9     <= índices\n",
    "#        -10  -9  -8  -7  -6  -5  -4  -3  -2  -1     <= índices begativos\n",
    "numeros = [10, 20, 30, 40, 50, 60, 70, 80, 90, 100] # <= valores \n",
    "print(\"\"\"          0   1   2   3   4   5   6   7   8   9     <= índices\n",
    "        -10  -9  -8  -7  -6  -5  -4  -3  -2  -1     <= índices begativos\"\"\")\n",
    "print(f\"Lista = {numeros}\")\n",
    "print(f\"3:7   = {numeros[3: 7]}\")\n",
    "print(f\"-4:-1 = {numeros[-4:-1]}\")"
   ]
  },
  {
   "attachments": {},
   "cell_type": "markdown",
   "metadata": {},
   "source": [
    "### Fatiando strings\n",
    "String nada mais é do que uma **Lista de caracteres**. <br>\n",
    "Com strings o mecanismo é o mesmo das listas que vimos até então. <br>Cada caractere da string corresponde a um elemento do da lista string."
   ]
  },
  {
   "cell_type": "code",
   "execution_count": 63,
   "metadata": {},
   "outputs": [
    {
     "name": "stdout",
     "output_type": "stream",
     "text": [
      "1. Agora veremos como o fatiamento funciona com strings\n",
      "2. o\n",
      "3. eremos c\n",
      "4. sgnirts moc anoicnuf otnemaitaf o omoc somerev arogA\n",
      "5. ftmt ocor\n",
      "6. oavrmscm \n"
     ]
    }
   ],
   "source": [
    "frase = \"Agora veremos como o fatiamento funciona com strings\"\n",
    "print(\"1. \" + frase)\n",
    "print(\"2. \" + frase[2])\n",
    "print(\"3. \" + frase[7:15])\n",
    "print(\"4. \" + frase[::-1])\n",
    "print(\"5. \" + frase[32:5:-3])\n",
    "print(\"6. \" + frase[2:20:2])"
   ]
  },
  {
   "attachments": {},
   "cell_type": "markdown",
   "metadata": {},
   "source": [
    "### Como lidamos com as Tuplas?\n",
    "Pouco muda, apenas parênteses em tupla no lugar dos colchetes na definição da lista."
   ]
  },
  {
   "cell_type": "code",
   "execution_count": 41,
   "metadata": {},
   "outputs": [
    {
     "name": "stdout",
     "output_type": "stream",
     "text": [
      "Lista: [2, 3, 4]\n",
      "Tupla: (7, 8, 9)\n"
     ]
    }
   ],
   "source": [
    "#        0  1  2  3  4 \n",
    "lista = [1, 2, 3, 4, 5] \n",
    "tupla = (6, 7, 8, 9, 0)\n",
    "\n",
    "print(f\"Lista: {lista[1:4]}\") # Exibe do segundo ao quarto elemento\n",
    "print(f\"Tupla: {tupla[1:4]}\") # Exibe do segundo ao quarto elemento\n"
   ]
  },
  {
   "attachments": {},
   "cell_type": "markdown",
   "metadata": {},
   "source": [
    "## Métodos para manipulação de strings\n",
    "Agora falaremos exclusivamente de strings (lista de caracteres).<br>\n",
    "Veremos os principais métodos que podem ser aplicados para manipular as strings.\n",
    "\n",
    "### Método: find()\n",
    "Este método procura um trecho de string em uma outra maior, caso encontre, retorna o índice de início da<br> \n",
    "primeira localização, se não encontrar, retorna -1."
   ]
  },
  {
   "cell_type": "code",
   "execution_count": 53,
   "metadata": {},
   "outputs": [
    {
     "name": "stdout",
     "output_type": "stream",
     "text": [
      "8\n",
      "4\n",
      "-1\n",
      "17\n"
     ]
    }
   ],
   "source": [
    "frase = \"Veremos agora os métodos de manipulação de strings.\"\n",
    "print(frase.find(\"agora\")) # Pesquisa a palavra 'agora'na frase\n",
    "print(frase.find(\"m\")) # pesquisa a primeira letra 'm'na frase\n",
    "print(frase.find(\"listas\")) # pesquisa uma palavra que não existe na frase\n",
    "print(frase.find(\"m\",10,20)) # pesquisa a letra 'm' no intervalo entre 10 e 20"
   ]
  },
  {
   "attachments": {},
   "cell_type": "markdown",
   "metadata": {},
   "source": [
    "### Método: join(lista_string)\n",
    "O método join() pega uma lista contendo elementos strings e transforma em apenas uma string.<br>\n",
    "Em outras palavras, este método junta strings."
   ]
  },
  {
   "cell_type": "code",
   "execution_count": 48,
   "metadata": {},
   "outputs": [
    {
     "name": "stdout",
     "output_type": "stream",
     "text": [
      "Edson de Oliveira\n",
      "Edson-de-Oliveira\n",
      "Edson,de,Oliveira\n"
     ]
    }
   ],
   "source": [
    "nome = [\"Edson\", \"de\", \"Oliveira\"]\n",
    "print(\" \".join(nome)) # Cria uma string com a lista separando por espaço \n",
    "print(\"-\".join(nome)) # Cria uma string com a lista separando com '-'\n",
    "print(\",\".join(nome)) # Cria uma string com a lista separando com ','"
   ]
  },
  {
   "attachments": {},
   "cell_type": "markdown",
   "metadata": {},
   "source": [
    "### Método: split(string_separadora)\n",
    "O método join() pega uma lista contendo elementos strings e transforma em apenas uma string.<br>\n",
    "Em outras palavras, este método junta strings. Repare que ela extrai o texto passado por parâmetro."
   ]
  },
  {
   "cell_type": "code",
   "execution_count": 52,
   "metadata": {},
   "outputs": [
    {
     "name": "stdout",
     "output_type": "stream",
     "text": [
      "['Edson', 'de', 'Oliveira']\n",
      "['Edson d', ' Oliv', 'ira']\n",
      "['Edson ', ' Oliveira']\n"
     ]
    }
   ],
   "source": [
    "nome = \"Edson de Oliveira\"\n",
    "print(nome.split()) # Tornou a string em uma lista separada por espaço\n",
    "print(nome.split('e')) # Tornou a string em uma lista separada por 'e'\n",
    "print(nome.split('de')) # Tornou a string em uma lista separada por 'de' "
   ]
  },
  {
   "attachments": {},
   "cell_type": "markdown",
   "metadata": {},
   "source": [
    "### Método: replace(procura, troca, cont)\n",
    "Este método substitui em uma string uma substrings especificada por outra 'cont' vezes solicitada."
   ]
  },
  {
   "cell_type": "code",
   "execution_count": 59,
   "metadata": {},
   "outputs": [
    {
     "name": "stdout",
     "output_type": "stream",
     "text": [
      "Edson dE OlivEira\n",
      "Edson DE Oliveira\n",
      "Edson_de Oliveira\n"
     ]
    }
   ],
   "source": [
    "nome = \"Edson de Oliveira\"\n",
    "nome_new1 = nome.replace('e', 'E') # Troca os 'e' por 'E'\n",
    "print(nome_new1)\n",
    "nome_new2 = nome.replace('de', 'DE') # Troca o 'de' por 'DE'\n",
    "print(nome_new2)\n",
    "nome_new3 = nome.replace(' ', '_', 1)\n",
    "print(nome_new3)"
   ]
  },
  {
   "attachments": {},
   "cell_type": "markdown",
   "metadata": {},
   "source": [
    "### Método: strip()\n",
    "Este método elimina os eventuais espaços que existirem no início e final da string."
   ]
  },
  {
   "cell_type": "code",
   "execution_count": 62,
   "metadata": {},
   "outputs": [
    {
     "name": "stdout",
     "output_type": "stream",
     "text": [
      "O texto '   Strip elimina os espaços   ' tem o tamanho: 30.\n",
      "O texto 'Strip elimina os espaços' tem o tamanho: 24.\n"
     ]
    }
   ],
   "source": [
    "texto = \"   Strip elimina os espaços   \"\n",
    "tamanho_texto = len(texto)\n",
    "print(f\"O texto '{texto}' tem o tamanho: {tamanho_texto}.\")\n",
    "texto = texto.strip() # Elimina os espaços antes e depois do texto\n",
    "tamanho_texto_strip = len(texto)\n",
    "print(f\"O texto '{texto}' tem o tamanho: {tamanho_texto_strip}.\")"
   ]
  },
  {
   "attachments": {},
   "cell_type": "markdown",
   "metadata": {},
   "source": [
    "## Operador de identidade 'in''\n",
    "O operador in retorna True caso o valor comparado esteja contido em uma lista ou False caso não esteja."
   ]
  },
  {
   "cell_type": "code",
   "execution_count": 1,
   "metadata": {},
   "outputs": [
    {
     "name": "stdout",
     "output_type": "stream",
     "text": [
      "'33' NÃO está na lista.\n"
     ]
    }
   ],
   "source": [
    "num = 33\n",
    "if num in [1, 2, 3, 4, 5]:\n",
    "    print(f\"'{num}' está na lista.\")\n",
    "else:\n",
    "    print(f\"'{num}' NÃO está na lista.\")\n",
    "\n",
    "# if num == 1 or num == 2 or num == 3 or num == 4 or num == 5:"
   ]
  },
  {
   "attachments": {},
   "cell_type": "markdown",
   "metadata": {},
   "source": [
    "outro exemplo utilizando string:"
   ]
  },
  {
   "cell_type": "code",
   "execution_count": 65,
   "metadata": {},
   "outputs": [
    {
     "name": "stdout",
     "output_type": "stream",
     "text": [
      "'de' ESTÁ contido no nome 'Edson de Oliveira'.\n"
     ]
    }
   ],
   "source": [
    "nome = \"Edson de Oliveira\"\n",
    "if \"de\" not in nome:\n",
    "    print(f\"'de' NÃO está contido no nome '{nome}'.\")\n",
    "else:\n",
    "    print(f\"'de' ESTÁ contido no nome '{nome}'.\")"
   ]
  }
 ],
 "metadata": {
  "kernelspec": {
   "display_name": "Python 3",
   "language": "python",
   "name": "python3"
  },
  "language_info": {
   "codemirror_mode": {
    "name": "ipython",
    "version": 3
   },
   "file_extension": ".py",
   "mimetype": "text/x-python",
   "name": "python",
   "nbconvert_exporter": "python",
   "pygments_lexer": "ipython3",
   "version": "3.11.4"
  },
  "orig_nbformat": 4
 },
 "nbformat": 4,
 "nbformat_minor": 2
}
