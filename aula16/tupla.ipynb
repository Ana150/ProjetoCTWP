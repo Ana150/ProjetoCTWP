{
 "cells": [
  {
   "attachments": {},
   "cell_type": "markdown",
   "metadata": {},
   "source": [
    "## Tuplas\n",
    "São estruturas de dados similares as listas. A diferença é que a tupla é inalterável."
   ]
  },
  {
   "cell_type": "code",
   "execution_count": 1,
   "metadata": {},
   "outputs": [
    {
     "name": "stdout",
     "output_type": "stream",
     "text": [
      "Lista: [56, 'Fiap', True, 98.65]\n",
      "Tupla:  (56, 'Fiap', True, 98.65)\n",
      "Posição 2 na lista:  True\n",
      "Posição 2 na tupla:  True\n"
     ]
    }
   ],
   "source": [
    "l = list() #cria uma lista vazia\n",
    "t = tuple() #cria uma tupla vazia\n",
    "\n",
    "lista = [56, \"Fiap\", True, 98.65]\n",
    "tupla = (56, \"Fiap\", True, 98.65)\n",
    "\n",
    "print(\"Lista:\", lista)\n",
    "print(\"Tupla: \", tupla)\n",
    "\n",
    "print(f\"Posição 2 na lista: \", lista[2])\n",
    "print(f\"Posição 2 na tupla: \", tupla[2])"
   ]
  },
  {
   "cell_type": "code",
   "execution_count": 10,
   "metadata": {},
   "outputs": [
    {
     "name": "stdout",
     "output_type": "stream",
     "text": [
      "Posição 0 = 56 ou 56\n",
      "Posição 1 = Fiap ou Fiap\n",
      "Posição 2 = True ou True\n",
      "Posição 3 = 98.65 ou 98.65\n"
     ]
    }
   ],
   "source": [
    "tupla = (56, \"Fiap\", True, 98.65)\n",
    "\n",
    "#Cria procedimentno\n",
    "def exibeTupla(t = tuple) -> None:\n",
    "\n",
    "    #ind = indice | elem = elemento\n",
    "    for ind, elem in enumerate(t): \n",
    "        print(F\"Posição {ind} = {elem} ou {t[ind]}\")\n",
    "\n",
    "#Exisbe proceimento\n",
    "exibeTupla(tupla)"
   ]
  },
  {
   "attachments": {},
   "cell_type": "markdown",
   "metadata": {},
   "source": [
    "# Manipulação e fatiamento de strings | listas | tuplas\n",
    "Fatiar a lista é selecionar parte dela.\n",
    "\n",
    "**Sintaxe**\n",
    "```\n",
    "lista(inicio: fim: passo)\n",
    "```\n",
    "* Onde **inicio** é o primeiro elemnto e **fim** é o último (**fim** não o inclui)"
   ]
  },
  {
   "cell_type": "code",
   "execution_count": 28,
   "metadata": {},
   "outputs": [
    {
     "name": "stdout",
     "output_type": "stream",
     "text": [
      "Lista completa = [10, 20, 30, 40, 50, 60, 70, 80, 90, 100]\n",
      "[10, 20, 30, 40, 50, 60, 70, 80, 90, 100] [40, 50, 60, 70]\n",
      "[60, 70, 80, 90, 100]\n",
      "Primeiro elemento: 10 - último 100\n",
      "[70, 80, 90]\n",
      "[20, 30, 40, 50, 60, 70, 80, 90]\n",
      "[20, 40, 60, 80]\n",
      "[10, 30, 50, 70, 90]\n",
      "[100, 90, 80, 70, 60, 50, 40, 30, 20, 10]\n",
      "[70, 60, 50, 40]\n"
     ]
    }
   ],
   "source": [
    "#         -10  -9  -8  -7  -6  -5  -4  -3  -2  -1\n",
    "#           0   1   2   3   4   5   6   7   8   9\n",
    "numeros = [10, 20, 30, 40, 50, 60, 70, 80, 90, 100]\n",
    "print(f\"Lista completa = {numeros}\")\n",
    "\n",
    "new_numeros = numeros[3:7]\n",
    "print(numeros, numeros[3:7])\n",
    "print(numeros[5:20])\n",
    "print(f\"Primeiro elemento: {numeros[0]} - último {numeros[-1]}\")\n",
    "print(numeros[-4:-1])\n",
    "\n",
    "print(numeros[1:9])\n",
    "print(numeros[1:9:2]) #Corre a lista do 1 ao 9 de 2 em 2\n",
    "print(numeros[::2]) # Corre a lista do primeiro elemento ao ultimo de 2 em 2\n",
    "print(numeros[::-1]) # Corre a lista de trás pra frente\n",
    "print(numeros[6:2:-1])"
   ]
  },
  {
   "attachments": {},
   "cell_type": "markdown",
   "metadata": {},
   "source": [
    "## Fatiando string\n",
    "String nada mais é que uma lista e caracteres.<br>\n",
    "Cada caractere corresponde a uma posição."
   ]
  },
  {
   "cell_type": "code",
   "execution_count": 31,
   "metadata": {},
   "outputs": [
    {
     "name": "stdout",
     "output_type": "stream",
     "text": [
      "Agora vamos fatiar uma string\n",
      "A g\n",
      "amos fat\n",
      "gnirts amu raitaf somav arogA\n",
      "\n",
      "Aoavmsfta m tig\n"
     ]
    }
   ],
   "source": [
    "frase = \"Agora vamos fatiar uma string\"\n",
    "print(frase)\n",
    "print(frase[0], frase[-1])\n",
    "print(frase[7:15])\n",
    "print(frase[::-1])\n",
    "print(frase[20:3:2])\n",
    "print(frase[0::2])"
   ]
  },
  {
   "attachments": {},
   "cell_type": "markdown",
   "metadata": {},
   "source": [
    "**Exercicio**\n",
    "1. Faça uma função que conte quantas letras 'a' ou 'A' existem em uma string passada por parametro "
   ]
  },
  {
   "cell_type": "code",
   "execution_count": null,
   "metadata": {},
   "outputs": [],
   "source": [
    "frase = \"Agora veremos como funciona o fatiamento de string\"\n",
    "\n",
    "def conta_a_A(f: str) -> int:\n",
    "    qtd = 0\n",
    "    for elem in f:\n",
    "        if elem == 'a' or elem == 'A':\n",
    "            qtd +=1\n",
    "    return qtd\n",
    "\n",
    "# ---- chamada da função\n",
    "print(conta_a_A(frase))"
   ]
  }
 ],
 "metadata": {
  "kernelspec": {
   "display_name": "Python 3",
   "language": "python",
   "name": "python3"
  },
  "language_info": {
   "codemirror_mode": {
    "name": "ipython",
    "version": 3
   },
   "file_extension": ".py",
   "mimetype": "text/x-python",
   "name": "python",
   "nbconvert_exporter": "python",
   "pygments_lexer": "ipython3",
   "version": "3.10.6"
  },
  "orig_nbformat": 4
 },
 "nbformat": 4,
 "nbformat_minor": 2
}
