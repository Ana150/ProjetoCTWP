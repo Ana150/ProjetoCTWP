{
 "cells": [
  {
   "cell_type": "markdown",
   "metadata": {},
   "source": [
    "## Correção dos Exercícios\n",
    "### Assuntos: Subalgoritmos e Filas\n",
    "\n",
    "1. Faça um subalgoritmo que passe uma frase por parâmetro e analise: se ela tiver ponto a retorna, senão acrescenta ponto no final e a retorna.\n",
    "\n"
   ]
  },
  {
   "cell_type": "code",
   "execution_count": null,
   "metadata": {},
   "outputs": [],
   "source": [
    "# ------------- Criação da Função\n",
    "def inserir_ponto_final(f: str) -> str:\n",
    "    if f[-1] == '.':\n",
    "        return f\n",
    "    else:\n",
    "        return f + '.'\n",
    "\n",
    "# ------------- Chamada da função\n",
    "frase = \"Bom dia a todos.\"        \n",
    "print(inserir_ponto_final(frase))"
   ]
  },
  {
   "cell_type": "markdown",
   "metadata": {},
   "source": [
    "2. Faça um subalgoritmo que pegue uma frase e exiba cada palavra em uma linha.\n",
    "```\n",
    "frase = \"Bom dia a todos\"\"\n",
    "quebrar_frase(frase)\n",
    "\n",
    ">> Bom\n",
    ">> dia\n",
    ">> a\n",
    ">> todos\n",
    "\n",
    "f = [\"Bom\", \"dia\", \"a\", \"Todos\"]\n",
    "```"
   ]
  },
  {
   "cell_type": "code",
   "execution_count": 1,
   "metadata": {},
   "outputs": [
    {
     "name": "stdout",
     "output_type": "stream",
     "text": [
      "Bom\n",
      "dia\n",
      "a\n",
      "todos\n",
      "['Bom', 'dia', 'a', 'todos']\n",
      "4\n"
     ]
    }
   ],
   "source": [
    "# ------------------- Criação das funções\n",
    "def quebrar_frase(f: str) -> list:\n",
    "    lista_f = f.split()\n",
    "    return lista_f\n",
    "\n",
    "def exibe_palavras(lf: list) -> None:\n",
    "    for elem in lf:\n",
    "        print(elem)\n",
    "        \n",
    "def contar_palavras(lf: list) -> None:\n",
    "    qtd = 0\n",
    "    for elem in lf:\n",
    "        qtd += 1\n",
    "    return qtd\n",
    "\n",
    "# ------------------- Chamadas das funções\n",
    "frase = \"Bom dia a todos\"\n",
    "exibe_palavras(quebrar_frase(frase))\n",
    "print(quebrar_frase(frase))\n",
    "print(contar_palavras(quebrar_frase(frase)))\n"
   ]
  },
  {
   "cell_type": "markdown",
   "metadata": {},
   "source": [
    "3 - Dada uma lista preenchida com strings, faça um subalgoritmo que retorne quanto destes elementos podem ser do tipo lógico (True ou False).\n",
    "\n",
    "```\n",
    "frase = \"Nestra frase tem dado logico. True é verdade e False falso. Somente True e False são dados lógicos.\"\n",
    "lista = quebra_frase(frase)\n",
    "ou\n",
    "lista = [\"Edson\", 49, \"True\", 85.66, \"false\"]\n",
    "quantidade = contagem_dados_logicos(lista) \n",
    "print(quantidade)\n",
    "```"
   ]
  },
  {
   "cell_type": "code",
   "execution_count": null,
   "metadata": {},
   "outputs": [],
   "source": [
    "# ------------------- Criação das funções\n",
    "def contagem_dados_logicos(l: list) -> int:\n",
    "    qtd = 0\n",
    "    for elem in l:\n",
    "        if elem in [\"True\", \"False\"]:\n",
    "            qtd += 1\n",
    "    return qtd\n",
    "\n",
    "# ------------------- Chamada das funções\n",
    "frase = \"Nestra frase tem dado logico. True é verdade e False falso. Somente True e False são dados lógicos.\"\n",
    "lista = quebrar_frase(frase)\n",
    "# lista = [\"Edson\", 49, \"True\", 85.66, \"False\"]\n",
    "quantidade = contagem_dados_logicos(lista) \n",
    "print(quantidade)"
   ]
  },
  {
   "cell_type": "markdown",
   "metadata": {},
   "source": [
    "4. Faça um subalgoritmo que retorne quantos elementos texto podem ser convertidos para inteiro.\n",
    "```python\n",
    "lista = [\"Edson\", 49, \"True\", 85.66, \"False\", 45, 33]\n",
    "quantidade = contagem_dados_inteiros(lista)\n",
    "print(quantidade)\n",
    ">> 3\n",
    "```"
   ]
  },
  {
   "cell_type": "code",
   "execution_count": null,
   "metadata": {},
   "outputs": [],
   "source": [
    "# ------------------- Criação das funções\n",
    "def contagem_dados_inteiros(l: list) -> int:\n",
    "    qtd = 0\n",
    "    for elem in l:\n",
    "        if elem.isnumeric():\n",
    "            qtd += 1\n",
    "    return qtd\n",
    "\n",
    "# ------------------- chamada das funções\n",
    "lista = [\"Edson\", \"True\", \"85.66\", \"False\", \"45\", \"33\"]\n",
    "quantidade = contagem_dados_inteiros(lista)\n",
    "print(quantidade)"
   ]
  },
  {
   "cell_type": "markdown",
   "metadata": {},
   "source": [
    "5. Faça um procedimento que analise uma lista1 (do tipo string) e copie para uma lista2 (do tipo int) os valores inteiros da lista 1.\n",
    "\n",
    "```python\n",
    "lista1 = [\"Edson\", \"True\", \"85.66\", \"False\", \"45\", \"33\"]\n",
    "lista2 = list()\n",
    "copia_inteiros(lista1, lista 2)\n",
    "print(f\"Lista1 = {lista1}\")\n",
    "print(f\"Lista2 = {lista2}\")\n",
    "```\n",
    "> Lista1 = [\"Edson\", \"True\", \"85.66\", \"False\", \"45\", \"33\"]<br>\n",
    "> Lista2 = [45, 33]"
   ]
  },
  {
   "cell_type": "code",
   "execution_count": null,
   "metadata": {},
   "outputs": [],
   "source": [
    "# ---------------------------- Definição das funções\n",
    "def copia_inteiros(l1: list, l2: list) -> None:\n",
    "    for elem in l1:\n",
    "        if elem.isnumeric():\n",
    "            l2.append(int(elem))\n",
    "        \n",
    "# ---------------------------- Chamada das funções    \n",
    "lista1 = [\"Edson\", \"True\", \"85.66\", \"False\", \"45\", \"33\"]\n",
    "lista2 = list()\n",
    "copia_inteiros(lista1, lista2)\n",
    "print(f\"Lista1 = {lista1}\")\n",
    "print(f\"Lista2 = {lista2}\")"
   ]
  },
  {
   "cell_type": "markdown",
   "metadata": {},
   "source": [
    "Exercícios:\n",
    "\n",
    "chk -> avaliaçã0 que vale 10 \n",
    "\n",
    "deste semestre:\n",
    "Atividades: Exercícios cuja produção vale o ponto.\n",
    "\n",
    "Ativ 1: Vale até 1 ponto\n",
    "Ativ 2: Vale até 1 ponto\n",
    "\n",
    "\n",
    "chk -> vale 8 pontos\n",
    "\n"
   ]
  }
 ],
 "metadata": {
  "kernelspec": {
   "display_name": "Python 3",
   "language": "python",
   "name": "python3"
  },
  "language_info": {
   "codemirror_mode": {
    "name": "ipython",
    "version": 3
   },
   "file_extension": ".py",
   "mimetype": "text/x-python",
   "name": "python",
   "nbconvert_exporter": "python",
   "pygments_lexer": "ipython3",
   "version": "3.11.4"
  },
  "orig_nbformat": 4
 },
 "nbformat": 4,
 "nbformat_minor": 2
}
