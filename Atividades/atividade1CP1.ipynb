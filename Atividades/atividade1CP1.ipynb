{
 "cells": [
  {
   "cell_type": "markdown",
   "metadata": {},
   "source": [
    "## ANA CRISTINA ARAÚJO OLIVEIRA - RM 99816"
   ]
  },
  {
   "cell_type": "markdown",
   "metadata": {},
   "source": [
    "Faça um subalgoritmo chamado converte_vogais_maiusculo(frase) que passe uma frase por parâmetro e retorne a mesmafrase com SOMENTE as vogais maiúsculas. "
   ]
  },
  {
   "cell_type": "code",
   "execution_count": 97,
   "metadata": {},
   "outputs": [],
   "source": [
    "def converte_vogais(frase) -> None:  \n",
    "    frase = input(\"Insira a frase que deseja converter: \") \n",
    "\n",
    "    fraseConvertidaA = frase.replace('a', 'A')  \n",
    "    fraseConvertidaE = fraseConvertidaA.replace('e', 'E')\n",
    "    fraseConvertidaI = fraseConvertidaE.replace('i', 'I')\n",
    "    fraseConvertidaO = fraseConvertidaI.replace('o', 'O')\n",
    "    fraseFinal = fraseConvertidaO.replace('u', 'U')\n",
    "\n",
    "    print(f\"Frase inicial: {frase}\")\n",
    "    print(f\"Frase convertida: {fraseFinal}\")"
   ]
  },
  {
   "cell_type": "markdown",
   "metadata": {},
   "source": [
    "Faça uma função chamada isfloat(valor) que passe um valor do tipo string por parâmetro e retorne True caso este valor represente um número float ou False caso não represente."
   ]
  },
  {
   "cell_type": "code",
   "execution_count": 98,
   "metadata": {},
   "outputs": [],
   "source": [
    "def isFloat(valor) -> None:\n",
    "    valor = input(\"Insira o número que deseja verificar: \")\n",
    "    def contador():\n",
    "        contador = 0\n",
    "        for ponto in valor:\n",
    "            if ponto == \".\":\n",
    "                contador += 1\n",
    "        return contador\n",
    "\n",
    "    if contador() <= 1 and valor.replace(\".\", \"\", 1).isnumeric():\n",
    "        print(f\"O valor {valor} é float\")\n",
    "    else:\n",
    "        print(f\"O valor {valor} não é float\")"
   ]
  },
  {
   "cell_type": "code",
   "execution_count": 99,
   "metadata": {},
   "outputs": [
    {
     "name": "stdout",
     "output_type": "stream",
     "text": [
      "Digite uma opção válida!\n"
     ]
    }
   ],
   "source": [
    "while True:\n",
    "    opcao = input('''\n",
    "    Escolha a opção desejada:\n",
    "    0 -> SAIR\n",
    "    1 -> Converte vogais\n",
    "    2 -> Verifica se é float\n",
    "    ''')\n",
    "\n",
    "    if opcao.isdigit():\n",
    "        match int(opcao):\n",
    "            case 0:\n",
    "                break\n",
    "            case 1:\n",
    "                converte_vogais(frase)\n",
    "            case 2:\n",
    "                isFloat(valor)\n",
    "\n",
    "            case _:\n",
    "                print(\"Digite uma opção válida!\")"
   ]
  }
 ],
 "metadata": {
  "kernelspec": {
   "display_name": "Python 3",
   "language": "python",
   "name": "python3"
  },
  "language_info": {
   "codemirror_mode": {
    "name": "ipython",
    "version": 3
   },
   "file_extension": ".py",
   "mimetype": "text/x-python",
   "name": "python",
   "nbconvert_exporter": "python",
   "pygments_lexer": "ipython3",
   "version": "3.10.6"
  },
  "orig_nbformat": 4
 },
 "nbformat": 4,
 "nbformat_minor": 2
}
