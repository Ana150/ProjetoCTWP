{
 "cells": [
  {
   "cell_type": "markdown",
   "metadata": {},
   "source": [
    "## Correção da Atividade 1 - CP1\n",
    "1. Faça uma função que passe por parametro uma frase (str) e retorne a mesma frase com as vogais em maiúsculo."
   ]
  },
  {
   "cell_type": "code",
   "execution_count": null,
   "metadata": {},
   "outputs": [],
   "source": [
    "# ---------------- CONSTRUÇÃO DOS SUBALGORITMOS\n",
    "# Função que converte as vogais de uma frase em maiúsculo\n",
    "def converte_vogais_maiusculo(f: str) -> str:\n",
    "    for l in f:\n",
    "        if l in ['a', 'e', 'i', 'o', 'u']:\n",
    "            f = f.replace(l, l.upper())\n",
    "    return f\n",
    "\n",
    "# Função que verifica se ums string corresponde a um float (True | False)\n",
    "def isfloat(v: str) -> bool:\n",
    "    teste_v = v.replace('.', '', 1)\n",
    "    if teste_v.isnumeric(): # isnumeric() verifica se é um dado inteiro\n",
    "        return True\n",
    "    else:\n",
    "        return False\n",
    "\n",
    "# Função isfloat() - Versão 2\n",
    "def isfloat2(v: str) -> bool:\n",
    "    # Se for inteiro já é float\n",
    "    if v.isnumeric():\n",
    "        return True\n",
    "    else:\n",
    "        ponto = 0 # verifica quanto pontos haverá no valor\n",
    "        for c in v:\n",
    "            if c in ['0', '1', '2', '3', '4', '5', '6', '7', '8', '9', '0', '.']:\n",
    "                # Verifica quantos pontos há no valor\n",
    "                if c == '.':\n",
    "                    ponto += 1\n",
    "            # se o caractere nao for numero ou ponto\n",
    "            else:\n",
    "                return False\n",
    "        # se houver mais de um ponto\n",
    "        if ponto > 1:\n",
    "            return False\n",
    "        else:\n",
    "            return True\n",
    "                \n",
    "\n",
    "# ---------------------- PROGRAMA PRINCIPAL\n",
    "import os\n",
    "while True:\n",
    "    os.system(\"clear\") # se for windows use cls\n",
    "    print(\"\"\" \n",
    "    0 - SAIR\n",
    "    1 - Converte vogais para maiusculo\n",
    "    2 - Verifica se um valor é float\n",
    "    \"\"\")\n",
    "    opcao = int(input(\"Opção: \"))\n",
    "    match opcao:\n",
    "        case 0:\n",
    "            break\n",
    "        case 1:\n",
    "            frase = input(\"Digite uma frase: \")\n",
    "            print(converte_vogais_maiusculo(frase))\n",
    "            input(\"Digite algo para continuar...\")\n",
    "        case 2: \n",
    "            valor = input(\"Digite um valor: \")\n",
    "            if isfloat(valor):\n",
    "                print(f\"O valor '{valor}' é um float!\")\n",
    "            else:\n",
    "                print(f\"O valor '{valor}' NÃO é um float!\")\n",
    "            input(\"Digite algo para continuar...\")\n",
    "# else:\n",
    "#     print(\"Obrigado por utilizar o nosso programa\")\n",
    "    "
   ]
  },
  {
   "cell_type": "markdown",
   "metadata": {},
   "source": [
    "## Método de pesquisa sequencial\n",
    "Busca um elemento em uma lista até que encontre (ou não).<br>\n",
    "para executar este método a lista pode estar ordenada ou não.\n",
    "É um método de pesquisa lento com uma grande quantidade de dados."
   ]
  },
  {
   "cell_type": "code",
   "execution_count": 11,
   "metadata": {},
   "outputs": [
    {
     "name": "stdout",
     "output_type": "stream",
     "text": [
      "O valor 87 existe na lista\n"
     ]
    }
   ],
   "source": [
    "# ------ Método de pesquisa sequencial\n",
    "lista = [34,23,76,87,45,56,90,12,45,12]\n",
    "\n",
    "achou = False\n",
    "valor = 87\n",
    "for elem in lista:\n",
    "    if elem == valor:\n",
    "        achou = True\n",
    "        break\n",
    "\n",
    "if achou:\n",
    "    print(f\"O valor {valor} existe na lista\")\n",
    "else:\n",
    "    print(f\"O valor {valor} NÃO existe na lista\")\n",
    "    \n"
   ]
  },
  {
   "cell_type": "markdown",
   "metadata": {},
   "source": [
    "## Ordenação da lista\n",
    "Este metodo de ordenação de lista, trava o elemento com o índice menor e pergunta se os subsequentes são maiores. se sim, troca os elementos. Trava o próximo e segue a mesma mecânica."
   ]
  },
  {
   "cell_type": "code",
   "execution_count": 16,
   "metadata": {},
   "outputs": [
    {
     "name": "stdout",
     "output_type": "stream",
     "text": [
      "Lista desordenada: [34, 23, 76, 87, 45, 56, 90, 12, 45, 12]\n",
      "Lista ordenada com sort: [12, 12, 23, 34, 45, 45, 56, 76, 87, 90]\n"
     ]
    }
   ],
   "source": [
    "# ---------- Ordenação da lista\n",
    "lista = [34,23,76,87,45,56,90,12,45,12]\n",
    "\n",
    "print(f\"Lista desordenada: {lista}\")\n",
    "\n",
    "lista.sort()\n",
    "print(f\"Lista ordenada com sort: {lista}\")\n",
    "\n",
    "for trav in range(0, len(lista) - 1, 1):\n",
    "    for prox in range(trav + 1, len(lista), 1):\n",
    "        if lista[trav] > lista[prox]:\n",
    "            aux = lista[trav]\n",
    "            lista[trav] = lista[prox]\n",
    "            lista[prox] = aux\n",
    "\n",
    "print(f\"Lista ordenada: {lista}\")"
   ]
  }
 ],
 "metadata": {
  "kernelspec": {
   "display_name": "Python 3",
   "language": "python",
   "name": "python3"
  },
  "language_info": {
   "codemirror_mode": {
    "name": "ipython",
    "version": 3
   },
   "file_extension": ".py",
   "mimetype": "text/x-python",
   "name": "python",
   "nbconvert_exporter": "python",
   "pygments_lexer": "ipython3",
   "version": "3.11.1"
  },
  "orig_nbformat": 4
 },
 "nbformat": 4,
 "nbformat_minor": 2
}
