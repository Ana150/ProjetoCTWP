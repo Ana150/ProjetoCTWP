{
 "cells": [
  {
   "cell_type": "code",
   "execution_count": 4,
   "metadata": {},
   "outputs": [
    {
     "name": "stdout",
     "output_type": "stream",
     "text": [
      "\n",
      "0 - SAIR\n",
      "1 - Digite as credências (login e email)\n",
      "2 - Exibir arquivo\n",
      "O email deve conter apenas um @\n",
      "O login deve ter exatamente 6 caracteres\n",
      "\n",
      "0 - SAIR\n",
      "1 - Digite as credências (login e email)\n",
      "2 - Exibir arquivo\n",
      "O email deve conter apenas um @\n",
      "O login deve começar com 1 numero\n",
      "\n",
      "0 - SAIR\n",
      "1 - Digite as credências (login e email)\n",
      "2 - Exibir arquivo\n"
     ]
    }
   ],
   "source": [
    "arq = open(\"RM99816.txt\", \"r\")\n",
    "letras = \"abcdefghijklmnopqrstuvwxyzABCDEFGHIJKLMNOPQRSTUVWXYZ\"\n",
    "numeros = \"0123456789\"\n",
    "caracteres = \"!#$%¨&*()_+{}?:;/\\|][]-='\"\n",
    "\n",
    "def validarLogin(login):\n",
    "    if len(login) > 6 or len(login) < 6:\n",
    "        print(\"O login deve ter exatamente 6 caracteres\")\n",
    "    elif login[0] not in numeros:\n",
    "        print(\"O login deve começar com 1 numero\")\n",
    "#    elif letras in login:\n",
    "#        print(\"Deve haver ao menos 1 letra no login\")\n",
    "    else:\n",
    "        arq.write(f\"{login}\\n\")\n",
    "        print(\"Email e senha salvos!\")\n",
    "\n",
    "\n",
    "\n",
    "def validarEmail(email):\n",
    "    partes = email.split(\"@\")\n",
    "    while True:\n",
    "        if len(partes) != 2:\n",
    "            print(\"O email deve conter apenas um @\")\n",
    "            break\n",
    "        else:\n",
    "            nome, sobrenome = partes\n",
    "            \n",
    "            if nome[0] not in letras or sobrenome[0] not in letras:\n",
    "                print(\"O nome e o sobrenome devem comear com letras\")\n",
    "            elif caracteres in nome or caracteres in sobrenome:\n",
    "                print(\"Não podem exitir caracteres especiais no email\")\n",
    "            elif sobrenome.count(\".\") < 1 or sobrenome.count(\".\") > 2:\n",
    "                print(\"A segunda parte do email deve conter 1 ou 2 pontos\")\n",
    "            elif \"@.\" in email or email[-1] == \".\":\n",
    "                print(\"A segunda parte do email não deve iniciar ou terminar com .\")\n",
    "            elif \"..\" in email:\n",
    "                print(\"não pode haver dois pontos consecutivos\")\n",
    "            else:\n",
    "                arq.write(f\"{email}, \")\n",
    "                \n",
    "\n",
    "\n",
    "while True:\n",
    "    print('''\n",
    "0 - SAIR\n",
    "1 - Digite as credências (login e email)\n",
    "2 - Exibir arquivo''')\n",
    "\n",
    "    opcao = int(input(\"Insira a opção desejada: \"))\n",
    "    match opcao:\n",
    "        case 0:\n",
    "            break\n",
    "        case 1:\n",
    "            email = input(\"Insira o email: \")\n",
    "            login = input(\"Insira o login: \")\n",
    "            validarEmail(email)\n",
    "            validarLogin(login)\n",
    "        case 2:\n",
    "            texto = arq.read()\n",
    "            print(f\"\\n{texto}\")"
   ]
  }
 ],
 "metadata": {
  "kernelspec": {
   "display_name": "Python 3",
   "language": "python",
   "name": "python3"
  },
  "language_info": {
   "codemirror_mode": {
    "name": "ipython",
    "version": 3
   },
   "file_extension": ".py",
   "mimetype": "text/x-python",
   "name": "python",
   "nbconvert_exporter": "python",
   "pygments_lexer": "ipython3",
   "version": "3.11.5"
  }
 },
 "nbformat": 4,
 "nbformat_minor": 2
}
